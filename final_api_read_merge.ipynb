{
 "cells": [
  {
   "cell_type": "code",
   "execution_count": 1,
   "metadata": {},
   "outputs": [],
   "source": [
    "import requests\n",
    "import matplotlib.pyplot as plt \n",
    "import pandas as pd\n",
    "import json \n",
    "import csv \n",
    "%matplotlib inline"
   ]
  },
  {
   "cell_type": "markdown",
   "metadata": {},
   "source": [
    "# concat nashville data"
   ]
  },
  {
   "cell_type": "code",
   "execution_count": 2,
   "metadata": {},
   "outputs": [],
   "source": [
    "bars_list_nash = pd.read_csv('bars_list_nash.csv')"
   ]
  },
  {
   "cell_type": "code",
   "execution_count": 3,
   "metadata": {},
   "outputs": [],
   "source": [
    "bars_list_nash_pd = pd.DataFrame(bars_list_nash)"
   ]
  },
  {
   "cell_type": "code",
   "execution_count": 4,
   "metadata": {},
   "outputs": [],
   "source": [
    "restaurant_list_nash = pd.read_csv('restaurant_list_nash.csv')"
   ]
  },
  {
   "cell_type": "code",
   "execution_count": 5,
   "metadata": {},
   "outputs": [],
   "source": [
    "restaurant_list_nash_pd = pd.DataFrame(restaurant_list_nash)"
   ]
  },
  {
   "cell_type": "code",
   "execution_count": 6,
   "metadata": {},
   "outputs": [],
   "source": [
    "#bars_list_nash_pd.info()"
   ]
  },
  {
   "cell_type": "code",
   "execution_count": 7,
   "metadata": {},
   "outputs": [],
   "source": [
    "#new = pd.concat([bars_list_nash_pd,restaurant_list_nash_pd])"
   ]
  },
  {
   "cell_type": "code",
   "execution_count": 8,
   "metadata": {},
   "outputs": [],
   "source": [
    "#new.head()"
   ]
  },
  {
   "cell_type": "code",
   "execution_count": 9,
   "metadata": {},
   "outputs": [],
   "source": [
    "activities_list_nash = pd.read_csv('activities_list_nash.csv')"
   ]
  },
  {
   "cell_type": "code",
   "execution_count": 10,
   "metadata": {},
   "outputs": [],
   "source": [
    "activities_list_nash_pd = pd.DataFrame(activities_list_nash)"
   ]
  },
  {
   "cell_type": "code",
   "execution_count": 11,
   "metadata": {},
   "outputs": [],
   "source": [
    "pets_list_nash = pd.read_csv('pets_list_nash.csv')"
   ]
  },
  {
   "cell_type": "code",
   "execution_count": 12,
   "metadata": {},
   "outputs": [],
   "source": [
    "pets_list_nash_pd = pd.DataFrame(pets_list_nash)"
   ]
  },
  {
   "cell_type": "code",
   "execution_count": 13,
   "metadata": {},
   "outputs": [],
   "source": [
    "shopping_list_nash = pd.read_csv('shopping_list_nash.csv')"
   ]
  },
  {
   "cell_type": "code",
   "execution_count": 14,
   "metadata": {},
   "outputs": [],
   "source": [
    "shopping_list_nash_pd = pd.DataFrame(shopping_list_nash)"
   ]
  },
  {
   "cell_type": "code",
   "execution_count": 15,
   "metadata": {},
   "outputs": [],
   "source": [
    "gym_list_nash = pd.read_csv('gym_list_nash.csv')"
   ]
  },
  {
   "cell_type": "code",
   "execution_count": 16,
   "metadata": {},
   "outputs": [],
   "source": [
    "gym_list_nash_pd = pd.DataFrame(gym_list_nash)"
   ]
  },
  {
   "cell_type": "code",
   "execution_count": 17,
   "metadata": {},
   "outputs": [
    {
     "data": {
      "text/html": [
       "<div>\n",
       "<style scoped>\n",
       "    .dataframe tbody tr th:only-of-type {\n",
       "        vertical-align: middle;\n",
       "    }\n",
       "\n",
       "    .dataframe tbody tr th {\n",
       "        vertical-align: top;\n",
       "    }\n",
       "\n",
       "    .dataframe thead th {\n",
       "        text-align: right;\n",
       "    }\n",
       "</style>\n",
       "<table border=\"1\" class=\"dataframe\">\n",
       "  <thead>\n",
       "    <tr style=\"text-align: right;\">\n",
       "      <th></th>\n",
       "      <th>Unnamed: 0</th>\n",
       "      <th>review_count</th>\n",
       "      <th>categories</th>\n",
       "      <th>ratings</th>\n",
       "      <th>name</th>\n",
       "      <th>latitude</th>\n",
       "      <th>longitude</th>\n",
       "      <th>price</th>\n",
       "      <th>zip_code</th>\n",
       "    </tr>\n",
       "  </thead>\n",
       "  <tbody>\n",
       "    <tr>\n",
       "      <th>0</th>\n",
       "      <td>0</td>\n",
       "      <td>27</td>\n",
       "      <td>['Interval Training Gyms']</td>\n",
       "      <td>5.0</td>\n",
       "      <td>CrossFit Forte</td>\n",
       "      <td>36.148838</td>\n",
       "      <td>-86.770403</td>\n",
       "      <td>no price</td>\n",
       "      <td>37203</td>\n",
       "    </tr>\n",
       "    <tr>\n",
       "      <th>1</th>\n",
       "      <td>1</td>\n",
       "      <td>72</td>\n",
       "      <td>['Gyms', 'Child Care &amp; Day Care']</td>\n",
       "      <td>4.0</td>\n",
       "      <td>Downtown Nashville YMCA</td>\n",
       "      <td>36.161387</td>\n",
       "      <td>-86.785404</td>\n",
       "      <td>no price</td>\n",
       "      <td>37203</td>\n",
       "    </tr>\n",
       "    <tr>\n",
       "      <th>2</th>\n",
       "      <td>2</td>\n",
       "      <td>39</td>\n",
       "      <td>['Boot Camps', 'Gyms', 'Trainers']</td>\n",
       "      <td>4.5</td>\n",
       "      <td>Orangetheory Fitness Green Hills</td>\n",
       "      <td>36.108978</td>\n",
       "      <td>-86.813141</td>\n",
       "      <td>no price</td>\n",
       "      <td>37215</td>\n",
       "    </tr>\n",
       "    <tr>\n",
       "      <th>3</th>\n",
       "      <td>3</td>\n",
       "      <td>50</td>\n",
       "      <td>['Gyms', 'Trainers', 'Kickboxing']</td>\n",
       "      <td>4.5</td>\n",
       "      <td>HOTBOX Fitness</td>\n",
       "      <td>36.154832</td>\n",
       "      <td>-86.786809</td>\n",
       "      <td>no price</td>\n",
       "      <td>37203</td>\n",
       "    </tr>\n",
       "    <tr>\n",
       "      <th>4</th>\n",
       "      <td>4</td>\n",
       "      <td>43</td>\n",
       "      <td>['Trainers', 'Cycling Classes', 'Interval Trai...</td>\n",
       "      <td>4.5</td>\n",
       "      <td>KrankFIT</td>\n",
       "      <td>36.109747</td>\n",
       "      <td>-86.810962</td>\n",
       "      <td>no price</td>\n",
       "      <td>37215</td>\n",
       "    </tr>\n",
       "  </tbody>\n",
       "</table>\n",
       "</div>"
      ],
      "text/plain": [
       "   Unnamed: 0  review_count  \\\n",
       "0           0            27   \n",
       "1           1            72   \n",
       "2           2            39   \n",
       "3           3            50   \n",
       "4           4            43   \n",
       "\n",
       "                                          categories  ratings  \\\n",
       "0                         ['Interval Training Gyms']      5.0   \n",
       "1                  ['Gyms', 'Child Care & Day Care']      4.0   \n",
       "2                 ['Boot Camps', 'Gyms', 'Trainers']      4.5   \n",
       "3                 ['Gyms', 'Trainers', 'Kickboxing']      4.5   \n",
       "4  ['Trainers', 'Cycling Classes', 'Interval Trai...      4.5   \n",
       "\n",
       "                               name   latitude  longitude     price  zip_code  \n",
       "0                    CrossFit Forte  36.148838 -86.770403  no price     37203  \n",
       "1           Downtown Nashville YMCA  36.161387 -86.785404  no price     37203  \n",
       "2  Orangetheory Fitness Green Hills  36.108978 -86.813141  no price     37215  \n",
       "3                    HOTBOX Fitness  36.154832 -86.786809  no price     37203  \n",
       "4                          KrankFIT  36.109747 -86.810962  no price     37215  "
      ]
     },
     "execution_count": 17,
     "metadata": {},
     "output_type": "execute_result"
    }
   ],
   "source": [
    "gym_list_nash.head()"
   ]
  },
  {
   "cell_type": "code",
   "execution_count": 19,
   "metadata": {},
   "outputs": [],
   "source": [
    "nashville_yelp = pd.concat([bars_list_nash_pd,restaurant_list_nash_pd, activities_list_nash_pd, pets_list_nash_pd, shopping_list_nash_pd, gym_list_nash_pd])"
   ]
  },
  {
   "cell_type": "code",
   "execution_count": 20,
   "metadata": {},
   "outputs": [
    {
     "data": {
      "text/plain": [
       "(284, 9)"
      ]
     },
     "execution_count": 20,
     "metadata": {},
     "output_type": "execute_result"
    }
   ],
   "source": [
    "nashville_yelp.shape"
   ]
  },
  {
   "cell_type": "code",
   "execution_count": 21,
   "metadata": {},
   "outputs": [],
   "source": [
    "nashville_yelp.to_csv('nashville_yelp.csv')"
   ]
  },
  {
   "cell_type": "markdown",
   "metadata": {},
   "source": [
    "# concat denver data"
   ]
  },
  {
   "cell_type": "code",
   "execution_count": 24,
   "metadata": {},
   "outputs": [],
   "source": [
    "bars_den_list = pd.read_csv('bars_den_list.csv')"
   ]
  },
  {
   "cell_type": "code",
   "execution_count": 31,
   "metadata": {},
   "outputs": [],
   "source": [
    "bars_list_nash_pd = pd.DataFrame(bars_den_list)"
   ]
  },
  {
   "cell_type": "code",
   "execution_count": 30,
   "metadata": {},
   "outputs": [],
   "source": [
    "restaurants_den_list = pd.read_csv('restaurants_den_list.csv')"
   ]
  },
  {
   "cell_type": "code",
   "execution_count": 32,
   "metadata": {},
   "outputs": [],
   "source": [
    "restaurants_list_nash_pd = pd.DataFrame(restaurants_den_list)"
   ]
  },
  {
   "cell_type": "code",
   "execution_count": 26,
   "metadata": {},
   "outputs": [],
   "source": [
    "active_den_list = pd.read_csv('active_den_list.csv')"
   ]
  },
  {
   "cell_type": "code",
   "execution_count": 33,
   "metadata": {},
   "outputs": [],
   "source": [
    "active_list_nash_pd = pd.DataFrame(active_den_list)"
   ]
  },
  {
   "cell_type": "code",
   "execution_count": 27,
   "metadata": {},
   "outputs": [],
   "source": [
    "pets_den_list = pd.read_csv('pets_den_list.csv')"
   ]
  },
  {
   "cell_type": "code",
   "execution_count": 34,
   "metadata": {},
   "outputs": [],
   "source": [
    "pets_list_nash_pd = pd.DataFrame(pets_den_list)"
   ]
  },
  {
   "cell_type": "code",
   "execution_count": 28,
   "metadata": {},
   "outputs": [],
   "source": [
    "shopping_den_list = pd.read_csv('shopping_den_list.csv')"
   ]
  },
  {
   "cell_type": "code",
   "execution_count": 35,
   "metadata": {},
   "outputs": [],
   "source": [
    "shopping_list_nash_pd = pd.DataFrame(shopping_den_list)"
   ]
  },
  {
   "cell_type": "code",
   "execution_count": 29,
   "metadata": {},
   "outputs": [],
   "source": [
    "gyms_den_list = pd.read_csv('gyms_den_list.csv')"
   ]
  },
  {
   "cell_type": "code",
   "execution_count": 36,
   "metadata": {},
   "outputs": [],
   "source": [
    "gyms_list_nash_pd = pd.DataFrame(gyms_den_list)"
   ]
  },
  {
   "cell_type": "code",
   "execution_count": 37,
   "metadata": {},
   "outputs": [],
   "source": [
    "denver_yelp = pd.concat([bars_list_nash_pd,restaurants_list_nash_pd,active_list_nash_pd,pets_list_nash_pd, shopping_list_nash_pd, gyms_list_nash_pd])"
   ]
  },
  {
   "cell_type": "code",
   "execution_count": 38,
   "metadata": {},
   "outputs": [
    {
     "data": {
      "text/plain": [
       "(300, 9)"
      ]
     },
     "execution_count": 38,
     "metadata": {},
     "output_type": "execute_result"
    }
   ],
   "source": [
    "denver_yelp.shape"
   ]
  },
  {
   "cell_type": "code",
   "execution_count": 39,
   "metadata": {},
   "outputs": [],
   "source": [
    "denver_yelp.to_csv('denver_yelp.csv')"
   ]
  },
  {
   "cell_type": "code",
   "execution_count": null,
   "metadata": {},
   "outputs": [],
   "source": []
  }
 ],
 "metadata": {
  "kernelspec": {
   "display_name": "Python 3",
   "language": "python",
   "name": "python3"
  },
  "language_info": {
   "codemirror_mode": {
    "name": "ipython",
    "version": 3
   },
   "file_extension": ".py",
   "mimetype": "text/x-python",
   "name": "python",
   "nbconvert_exporter": "python",
   "pygments_lexer": "ipython3",
   "version": "3.8.3"
  }
 },
 "nbformat": 4,
 "nbformat_minor": 4
}
